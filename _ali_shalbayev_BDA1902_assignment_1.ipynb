{
 "cells": [
  {
   "cell_type": "markdown",
   "metadata": {},
   "source": [
    "# Assignment 1"
   ]
  },
  {
   "cell_type": "markdown",
   "metadata": {},
   "source": [
    "All answers should be filled in notebook. For theoretical question you can use LaTeX, or you can proof everyhting in paper then attach scanned version. Name of notebook should be in following format:\n",
    "* name_group_assignment1.ipynb (ex. _alibekgaliyev_1902_assignment1.ipynb_)\n",
    "\n",
    "Deadline for assignment #1 2021-01-09 (Saturday)."
   ]
  },
  {
   "cell_type": "markdown",
   "metadata": {},
   "source": [
    "## Question 1 (2 point)"
   ]
  },
  {
   "cell_type": "markdown",
   "metadata": {},
   "source": [
    "Read video games sales data from vgsales.csv file. This dataset contains a list of video games with sales greater than 100,000 copies. Fields include:\n",
    "* Rank - Ranking of overall sales\n",
    "* Name - The games name\n",
    "* Platform - Platform of the games release (i.e. PC,PS4, etc.)\n",
    "* Year - Year of the game's release\n",
    "* Genre - Genre of the game\n",
    "* Publisher - Publisher of the game\n",
    "* NA_Sales - Sales in North America (in millions)\n",
    "* EU_Sales - Sales in Europe (in millions)\n",
    "* JP_Sales - Sales in Japan (in millions)\n",
    "* Other_Sales - Sales in the rest of the world (in millions)\n",
    "* Global_Sales - Total worldwide sales.\n",
    "\n",
    "Using your favorite visualization library build histograms and boxplots for NA_Sales, EU_Sales, JP_Sales, Other_Sales, Global_Sales? What is the average sales for each region? What is the standard deviation for each region? How many outliers (using IQR rule) we have in Global_Sales column? What is the difference between mean and median values in Global_Sales column? Remove outliers and plot histogram and boxplot again. What is the difference between mean and median now?"
   ]
  },
  {
   "cell_type": "markdown",
   "metadata": {},
   "source": [
    "## Solution 1"
   ]
  },
  {
   "cell_type": "code",
   "execution_count": 3,
   "metadata": {},
   "outputs": [],
   "source": [
    "import pandas as pd\n",
    "import numpy as np\n",
    "\n",
    "import seaborn as sns\n",
    "import matplotlib.pyplot as plt\n",
    "%matplotlib inline"
   ]
  },
  {
   "cell_type": "code",
   "execution_count": 68,
   "metadata": {},
   "outputs": [
    {
     "data": {
      "text/html": [
       "<div>\n",
       "<style scoped>\n",
       "    .dataframe tbody tr th:only-of-type {\n",
       "        vertical-align: middle;\n",
       "    }\n",
       "\n",
       "    .dataframe tbody tr th {\n",
       "        vertical-align: top;\n",
       "    }\n",
       "\n",
       "    .dataframe thead th {\n",
       "        text-align: right;\n",
       "    }\n",
       "</style>\n",
       "<table border=\"1\" class=\"dataframe\">\n",
       "  <thead>\n",
       "    <tr style=\"text-align: right;\">\n",
       "      <th></th>\n",
       "      <th>Rank</th>\n",
       "      <th>Name</th>\n",
       "      <th>Platform</th>\n",
       "      <th>Year</th>\n",
       "      <th>Genre</th>\n",
       "      <th>Publisher</th>\n",
       "      <th>NA_Sales</th>\n",
       "      <th>EU_Sales</th>\n",
       "      <th>JP_Sales</th>\n",
       "      <th>Other_Sales</th>\n",
       "      <th>Global_Sales</th>\n",
       "    </tr>\n",
       "  </thead>\n",
       "  <tbody>\n",
       "    <tr>\n",
       "      <th>0</th>\n",
       "      <td>1</td>\n",
       "      <td>Wii Sports</td>\n",
       "      <td>Wii</td>\n",
       "      <td>2006.0</td>\n",
       "      <td>Sports</td>\n",
       "      <td>Nintendo</td>\n",
       "      <td>41.49</td>\n",
       "      <td>29.02</td>\n",
       "      <td>3.77</td>\n",
       "      <td>8.46</td>\n",
       "      <td>82.74</td>\n",
       "    </tr>\n",
       "    <tr>\n",
       "      <th>1</th>\n",
       "      <td>2</td>\n",
       "      <td>Super Mario Bros.</td>\n",
       "      <td>NES</td>\n",
       "      <td>1985.0</td>\n",
       "      <td>Platform</td>\n",
       "      <td>Nintendo</td>\n",
       "      <td>29.08</td>\n",
       "      <td>3.58</td>\n",
       "      <td>6.81</td>\n",
       "      <td>0.77</td>\n",
       "      <td>40.24</td>\n",
       "    </tr>\n",
       "    <tr>\n",
       "      <th>2</th>\n",
       "      <td>3</td>\n",
       "      <td>Mario Kart Wii</td>\n",
       "      <td>Wii</td>\n",
       "      <td>2008.0</td>\n",
       "      <td>Racing</td>\n",
       "      <td>Nintendo</td>\n",
       "      <td>15.85</td>\n",
       "      <td>12.88</td>\n",
       "      <td>3.79</td>\n",
       "      <td>3.31</td>\n",
       "      <td>35.82</td>\n",
       "    </tr>\n",
       "    <tr>\n",
       "      <th>3</th>\n",
       "      <td>4</td>\n",
       "      <td>Wii Sports Resort</td>\n",
       "      <td>Wii</td>\n",
       "      <td>2009.0</td>\n",
       "      <td>Sports</td>\n",
       "      <td>Nintendo</td>\n",
       "      <td>15.75</td>\n",
       "      <td>11.01</td>\n",
       "      <td>3.28</td>\n",
       "      <td>2.96</td>\n",
       "      <td>33.00</td>\n",
       "    </tr>\n",
       "    <tr>\n",
       "      <th>4</th>\n",
       "      <td>5</td>\n",
       "      <td>Pokemon Red/Pokemon Blue</td>\n",
       "      <td>GB</td>\n",
       "      <td>1996.0</td>\n",
       "      <td>Role-Playing</td>\n",
       "      <td>Nintendo</td>\n",
       "      <td>11.27</td>\n",
       "      <td>8.89</td>\n",
       "      <td>10.22</td>\n",
       "      <td>1.00</td>\n",
       "      <td>31.37</td>\n",
       "    </tr>\n",
       "    <tr>\n",
       "      <th>...</th>\n",
       "      <td>...</td>\n",
       "      <td>...</td>\n",
       "      <td>...</td>\n",
       "      <td>...</td>\n",
       "      <td>...</td>\n",
       "      <td>...</td>\n",
       "      <td>...</td>\n",
       "      <td>...</td>\n",
       "      <td>...</td>\n",
       "      <td>...</td>\n",
       "      <td>...</td>\n",
       "    </tr>\n",
       "    <tr>\n",
       "      <th>16593</th>\n",
       "      <td>16596</td>\n",
       "      <td>Woody Woodpecker in Crazy Castle 5</td>\n",
       "      <td>GBA</td>\n",
       "      <td>2002.0</td>\n",
       "      <td>Platform</td>\n",
       "      <td>Kemco</td>\n",
       "      <td>0.01</td>\n",
       "      <td>0.00</td>\n",
       "      <td>0.00</td>\n",
       "      <td>0.00</td>\n",
       "      <td>0.01</td>\n",
       "    </tr>\n",
       "    <tr>\n",
       "      <th>16594</th>\n",
       "      <td>16597</td>\n",
       "      <td>Men in Black II: Alien Escape</td>\n",
       "      <td>GC</td>\n",
       "      <td>2003.0</td>\n",
       "      <td>Shooter</td>\n",
       "      <td>Infogrames</td>\n",
       "      <td>0.01</td>\n",
       "      <td>0.00</td>\n",
       "      <td>0.00</td>\n",
       "      <td>0.00</td>\n",
       "      <td>0.01</td>\n",
       "    </tr>\n",
       "    <tr>\n",
       "      <th>16595</th>\n",
       "      <td>16598</td>\n",
       "      <td>SCORE International Baja 1000: The Official Game</td>\n",
       "      <td>PS2</td>\n",
       "      <td>2008.0</td>\n",
       "      <td>Racing</td>\n",
       "      <td>Activision</td>\n",
       "      <td>0.00</td>\n",
       "      <td>0.00</td>\n",
       "      <td>0.00</td>\n",
       "      <td>0.00</td>\n",
       "      <td>0.01</td>\n",
       "    </tr>\n",
       "    <tr>\n",
       "      <th>16596</th>\n",
       "      <td>16599</td>\n",
       "      <td>Know How 2</td>\n",
       "      <td>DS</td>\n",
       "      <td>2010.0</td>\n",
       "      <td>Puzzle</td>\n",
       "      <td>7G//AMES</td>\n",
       "      <td>0.00</td>\n",
       "      <td>0.01</td>\n",
       "      <td>0.00</td>\n",
       "      <td>0.00</td>\n",
       "      <td>0.01</td>\n",
       "    </tr>\n",
       "    <tr>\n",
       "      <th>16597</th>\n",
       "      <td>16600</td>\n",
       "      <td>Spirits &amp; Spells</td>\n",
       "      <td>GBA</td>\n",
       "      <td>2003.0</td>\n",
       "      <td>Platform</td>\n",
       "      <td>Wanadoo</td>\n",
       "      <td>0.01</td>\n",
       "      <td>0.00</td>\n",
       "      <td>0.00</td>\n",
       "      <td>0.00</td>\n",
       "      <td>0.01</td>\n",
       "    </tr>\n",
       "  </tbody>\n",
       "</table>\n",
       "<p>16598 rows × 11 columns</p>\n",
       "</div>"
      ],
      "text/plain": [
       "        Rank                                              Name Platform  \\\n",
       "0          1                                        Wii Sports      Wii   \n",
       "1          2                                 Super Mario Bros.      NES   \n",
       "2          3                                    Mario Kart Wii      Wii   \n",
       "3          4                                 Wii Sports Resort      Wii   \n",
       "4          5                          Pokemon Red/Pokemon Blue       GB   \n",
       "...      ...                                               ...      ...   \n",
       "16593  16596                Woody Woodpecker in Crazy Castle 5      GBA   \n",
       "16594  16597                     Men in Black II: Alien Escape       GC   \n",
       "16595  16598  SCORE International Baja 1000: The Official Game      PS2   \n",
       "16596  16599                                        Know How 2       DS   \n",
       "16597  16600                                  Spirits & Spells      GBA   \n",
       "\n",
       "         Year         Genre   Publisher  NA_Sales  EU_Sales  JP_Sales  \\\n",
       "0      2006.0        Sports    Nintendo     41.49     29.02      3.77   \n",
       "1      1985.0      Platform    Nintendo     29.08      3.58      6.81   \n",
       "2      2008.0        Racing    Nintendo     15.85     12.88      3.79   \n",
       "3      2009.0        Sports    Nintendo     15.75     11.01      3.28   \n",
       "4      1996.0  Role-Playing    Nintendo     11.27      8.89     10.22   \n",
       "...       ...           ...         ...       ...       ...       ...   \n",
       "16593  2002.0      Platform       Kemco      0.01      0.00      0.00   \n",
       "16594  2003.0       Shooter  Infogrames      0.01      0.00      0.00   \n",
       "16595  2008.0        Racing  Activision      0.00      0.00      0.00   \n",
       "16596  2010.0        Puzzle    7G//AMES      0.00      0.01      0.00   \n",
       "16597  2003.0      Platform     Wanadoo      0.01      0.00      0.00   \n",
       "\n",
       "       Other_Sales  Global_Sales  \n",
       "0             8.46         82.74  \n",
       "1             0.77         40.24  \n",
       "2             3.31         35.82  \n",
       "3             2.96         33.00  \n",
       "4             1.00         31.37  \n",
       "...            ...           ...  \n",
       "16593         0.00          0.01  \n",
       "16594         0.00          0.01  \n",
       "16595         0.00          0.01  \n",
       "16596         0.00          0.01  \n",
       "16597         0.00          0.01  \n",
       "\n",
       "[16598 rows x 11 columns]"
      ]
     },
     "execution_count": 68,
     "metadata": {},
     "output_type": "execute_result"
    }
   ],
   "source": [
    "df = pd.read_csv('vgsales.csv')\n",
    "df"
   ]
  },
  {
   "cell_type": "code",
   "execution_count": 16,
   "metadata": {},
   "outputs": [
    {
     "data": {
      "text/plain": [
       "<matplotlib.axes._subplots.AxesSubplot at 0x1ee84e44280>"
      ]
     },
     "execution_count": 16,
     "metadata": {},
     "output_type": "execute_result"
    },
    {
     "data": {
      "image/png": "[encoded data removed]",
      "text/plain": [
       "<Figure size 432x288 with 1 Axes>"
      ]
     },
     "metadata": {
      "needs_background": "light"
     },
     "output_type": "display_data"
    }
   ],
   "source": [
    "sns.boxplot(x=df['NA_Sales'], showmeans=True)"
   ]
  },
  {
   "cell_type": "code",
   "execution_count": 21,
   "metadata": {},
   "outputs": [
    {
     "data": {
      "text/plain": [
       "0.26466742981084057"
      ]
     },
     "execution_count": 21,
     "metadata": {},
     "output_type": "execute_result"
    }
   ],
   "source": [
    "df['NA_Sales'].mean()"
   ]
  },
  {
   "cell_type": "code",
   "execution_count": 26,
   "metadata": {},
   "outputs": [
    {
     "data": {
      "text/plain": [
       "0.8166830292990428"
      ]
     },
     "execution_count": 26,
     "metadata": {},
     "output_type": "execute_result"
    }
   ],
   "source": [
    "df['NA_Sales'].std()"
   ]
  },
  {
   "cell_type": "code",
   "execution_count": 233,
   "metadata": {},
   "outputs": [
    {
     "data": {
      "text/plain": [
       "<matplotlib.axes._subplots.AxesSubplot at 0x1ee884c9400>"
      ]
     },
     "execution_count": 233,
     "metadata": {},
     "output_type": "execute_result"
    },
    {
     "data": {
      "image/png": "[encoded data removed]",
      "text/plain": [
       "<Figure size 432x288 with 1 Axes>"
      ]
     },
     "metadata": {
      "needs_background": "light"
     },
     "output_type": "display_data"
    }
   ],
   "source": [
    "sns.distplot(df.NA_Sales, kde=False)"
   ]
  },
  {
   "cell_type": "code",
   "execution_count": 17,
   "metadata": {},
   "outputs": [
    {
     "data": {
      "text/plain": [
       "<matplotlib.axes._subplots.AxesSubplot at 0x1ee8506d040>"
      ]
     },
     "execution_count": 17,
     "metadata": {},
     "output_type": "execute_result"
    },
    {
     "data": {
      "image/png": "[encoded data removed]",
      "text/plain": [
       "<Figure size 432x288 with 1 Axes>"
      ]
     },
     "metadata": {
      "needs_background": "light"
     },
     "output_type": "display_data"
    }
   ],
   "source": [
    "sns.boxplot(x=df['EU_Sales'], showmeans=True)"
   ]
  },
  {
   "cell_type": "code",
   "execution_count": 22,
   "metadata": {},
   "outputs": [
    {
     "data": {
      "text/plain": [
       "0.1466520062658483"
      ]
     },
     "execution_count": 22,
     "metadata": {},
     "output_type": "execute_result"
    }
   ],
   "source": [
    "df['EU_Sales'].mean()"
   ]
  },
  {
   "cell_type": "code",
   "execution_count": 27,
   "metadata": {},
   "outputs": [
    {
     "data": {
      "text/plain": [
       "0.5053512312869366"
      ]
     },
     "execution_count": 27,
     "metadata": {},
     "output_type": "execute_result"
    }
   ],
   "source": [
    "df['EU_Sales'].std()"
   ]
  },
  {
   "cell_type": "code",
   "execution_count": 232,
   "metadata": {},
   "outputs": [
    {
     "data": {
      "text/plain": [
       "<matplotlib.axes._subplots.AxesSubplot at 0x1ee88415d60>"
      ]
     },
     "execution_count": 232,
     "metadata": {},
     "output_type": "execute_result"
    },
    {
     "data": {
      "image/png": "[encoded data removed]",
      "text/plain": [
       "<Figure size 432x288 with 1 Axes>"
      ]
     },
     "metadata": {
      "needs_background": "light"
     },
     "output_type": "display_data"
    }
   ],
   "source": [
    "sns.distplot(df.EU_Sales, kde=False)"
   ]
  },
  {
   "cell_type": "code",
   "execution_count": 18,
   "metadata": {},
   "outputs": [
    {
     "data": {
      "text/plain": [
       "<matplotlib.axes._subplots.AxesSubplot at 0x1ee850ccf10>"
      ]
     },
     "execution_count": 18,
     "metadata": {},
     "output_type": "execute_result"
    },
    {
     "data": {
      "image/png": "[encoded data removed]",
      "text/plain": [
       "<Figure size 432x288 with 1 Axes>"
      ]
     },
     "metadata": {
      "needs_background": "light"
     },
     "output_type": "display_data"
    }
   ],
   "source": [
    "sns.boxplot(x=df['JP_Sales'], showmeans=True)"
   ]
  },
  {
   "cell_type": "code",
   "execution_count": 23,
   "metadata": {},
   "outputs": [
    {
     "data": {
      "text/plain": [
       "0.07778166044101108"
      ]
     },
     "execution_count": 23,
     "metadata": {},
     "output_type": "execute_result"
    }
   ],
   "source": [
    "df['JP_Sales'].mean()"
   ]
  },
  {
   "cell_type": "code",
   "execution_count": 28,
   "metadata": {},
   "outputs": [
    {
     "data": {
      "text/plain": [
       "0.30929064808213236"
      ]
     },
     "execution_count": 28,
     "metadata": {},
     "output_type": "execute_result"
    }
   ],
   "source": [
    "df['JP_Sales'].std()"
   ]
  },
  {
   "cell_type": "code",
   "execution_count": 231,
   "metadata": {},
   "outputs": [
    {
     "data": {
      "text/plain": [
       "<matplotlib.axes._subplots.AxesSubplot at 0x1ee872bd850>"
      ]
     },
     "execution_count": 231,
     "metadata": {},
     "output_type": "execute_result"
    },
    {
     "data": {
      "image/png": "[encoded data removed]",
      "text/plain": [
       "<Figure size 432x288 with 1 Axes>"
      ]
     },
     "metadata": {
      "needs_background": "light"
     },
     "output_type": "display_data"
    }
   ],
   "source": [
    "sns.distplot(df.JP_Sales, kde=False)"
   ]
  },
  {
   "cell_type": "code",
   "execution_count": 19,
   "metadata": {},
   "outputs": [
    {
     "data": {
      "text/plain": [
       "<matplotlib.axes._subplots.AxesSubplot at 0x1ee8512a9d0>"
      ]
     },
     "execution_count": 19,
     "metadata": {},
     "output_type": "execute_result"
    },
    {
     "data": {
      "image/png": "[encoded data removed]",
      "text/plain": [
       "<Figure size 432x288 with 1 Axes>"
      ]
     },
     "metadata": {
      "needs_background": "light"
     },
     "output_type": "display_data"
    }
   ],
   "source": [
    "sns.boxplot(x=df['Other_Sales'], showmeans=True)"
   ]
  },
  {
   "cell_type": "code",
   "execution_count": 24,
   "metadata": {},
   "outputs": [
    {
     "data": {
      "text/plain": [
       "0.048063019640913515"
      ]
     },
     "execution_count": 24,
     "metadata": {},
     "output_type": "execute_result"
    }
   ],
   "source": [
    "df['Other_Sales'].mean()"
   ]
  },
  {
   "cell_type": "code",
   "execution_count": 29,
   "metadata": {},
   "outputs": [
    {
     "data": {
      "text/plain": [
       "0.18858840291278392"
      ]
     },
     "execution_count": 29,
     "metadata": {},
     "output_type": "execute_result"
    }
   ],
   "source": [
    "df['Other_Sales'].std()"
   ]
  },
  {
   "cell_type": "code",
   "execution_count": 230,
   "metadata": {},
   "outputs": [
    {
     "data": {
      "text/plain": [
       "<matplotlib.axes._subplots.AxesSubplot at 0x1ee87100880>"
      ]
     },
     "execution_count": 230,
     "metadata": {},
     "output_type": "execute_result"
    },
    {
     "data": {
      "image/png": "[encoded data removed]",
      "text/plain": [
       "<Figure size 432x288 with 1 Axes>"
      ]
     },
     "metadata": {
      "needs_background": "light"
     },
     "output_type": "display_data"
    }
   ],
   "source": [
    "sns.distplot(df.Other_Sales, kde=False)"
   ]
  },
  {
   "cell_type": "code",
   "execution_count": 20,
   "metadata": {},
   "outputs": [
    {
     "data": {
      "text/plain": [
       "<matplotlib.axes._subplots.AxesSubplot at 0x1ee85180400>"
      ]
     },
     "execution_count": 20,
     "metadata": {},
     "output_type": "execute_result"
    },
    {
     "data": {
      "image/png": "[encoded data removed]",
      "text/plain": [
       "<Figure size 432x288 with 1 Axes>"
      ]
     },
     "metadata": {
      "needs_background": "light"
     },
     "output_type": "display_data"
    }
   ],
   "source": [
    "sns.boxplot(x=df['Global_Sales'], showmeans=True)"
   ]
  },
  {
   "cell_type": "code",
   "execution_count": 25,
   "metadata": {},
   "outputs": [
    {
     "data": {
      "text/plain": [
       "0.53744065550074"
      ]
     },
     "execution_count": 25,
     "metadata": {},
     "output_type": "execute_result"
    }
   ],
   "source": [
    "df['Global_Sales'].mean()"
   ]
  },
  {
   "cell_type": "code",
   "execution_count": 30,
   "metadata": {},
   "outputs": [
    {
     "data": {
      "text/plain": [
       "1.5550279355699022"
      ]
     },
     "execution_count": 30,
     "metadata": {},
     "output_type": "execute_result"
    }
   ],
   "source": [
    "df['Global_Sales'].std()"
   ]
  },
  {
   "cell_type": "code",
   "execution_count": 229,
   "metadata": {},
   "outputs": [
    {
     "data": {
      "text/plain": [
       "<matplotlib.axes._subplots.AxesSubplot at 0x1ee87043dc0>"
      ]
     },
     "execution_count": 229,
     "metadata": {},
     "output_type": "execute_result"
    },
    {
     "data": {
      "image/png": "[encoded data removed]",
      "text/plain": [
       "<Figure size 432x288 with 1 Axes>"
      ]
     },
     "metadata": {
      "needs_background": "light"
     },
     "output_type": "display_data"
    }
   ],
   "source": [
    "sns.distplot(df.Global_Sales, kde=False)"
   ]
  },
  {
   "cell_type": "markdown",
   "metadata": {},
   "source": [
    "#### Outliers"
   ]
  },
  {
   "cell_type": "code",
   "execution_count": 36,
   "metadata": {},
   "outputs": [],
   "source": [
    "q1 = np.percentile(df['Global_Sales'], 25, interpolation = 'midpoint') \n",
    "q3 = np.percentile(df['Global_Sales'], 75, interpolation = 'midpoint')\n",
    "iqr = q3 - q1"
   ]
  },
  {
   "cell_type": "code",
   "execution_count": 38,
   "metadata": {},
   "outputs": [
    {
     "data": {
      "text/plain": [
       "0.41"
      ]
     },
     "execution_count": 38,
     "metadata": {},
     "output_type": "execute_result"
    }
   ],
   "source": [
    "iqr"
   ]
  },
  {
   "cell_type": "code",
   "execution_count": 40,
   "metadata": {},
   "outputs": [
    {
     "data": {
      "text/plain": [
       "1.085"
      ]
     },
     "execution_count": 40,
     "metadata": {},
     "output_type": "execute_result"
    }
   ],
   "source": [
    "# upper boundary\n",
    "q3 + (1.5 * iqr)"
   ]
  },
  {
   "cell_type": "code",
   "execution_count": 41,
   "metadata": {},
   "outputs": [
    {
     "data": {
      "text/plain": [
       "-0.5549999999999999"
      ]
     },
     "execution_count": 41,
     "metadata": {},
     "output_type": "execute_result"
    }
   ],
   "source": [
    "# lower boundary\n",
    "q1 - (1.5 * iqr)"
   ]
  },
  {
   "cell_type": "code",
   "execution_count": 61,
   "metadata": {},
   "outputs": [
    {
     "data": {
      "text/plain": [
       "1893"
      ]
     },
     "execution_count": 61,
     "metadata": {},
     "output_type": "execute_result"
    }
   ],
   "source": [
    "# upper outliers number\n",
    "(df['Global_Sales']>q3 + (1.5 * iqr)).sum()"
   ]
  },
  {
   "cell_type": "code",
   "execution_count": 62,
   "metadata": {},
   "outputs": [
    {
     "data": {
      "text/plain": [
       "0"
      ]
     },
     "execution_count": 62,
     "metadata": {},
     "output_type": "execute_result"
    }
   ],
   "source": [
    "# upper outliers number\n",
    "(df['Global_Sales']<q1 - (1.5 * iqr)).sum()"
   ]
  },
  {
   "cell_type": "markdown",
   "metadata": {},
   "source": [
    "#### Mean and median in Global_Sales column"
   ]
  },
  {
   "cell_type": "code",
   "execution_count": 63,
   "metadata": {},
   "outputs": [
    {
     "data": {
      "text/plain": [
       "0.17"
      ]
     },
     "execution_count": 63,
     "metadata": {},
     "output_type": "execute_result"
    }
   ],
   "source": [
    "df['Global_Sales'].median()"
   ]
  },
  {
   "cell_type": "code",
   "execution_count": 64,
   "metadata": {},
   "outputs": [
    {
     "data": {
      "text/plain": [
       "0.53744065550074"
      ]
     },
     "execution_count": 64,
     "metadata": {},
     "output_type": "execute_result"
    }
   ],
   "source": [
    "df['Global_Sales'].mean()"
   ]
  },
  {
   "cell_type": "markdown",
   "metadata": {},
   "source": [
    "The mean and median values differ from each other for about 0.37, which is quite significant. "
   ]
  },
  {
   "cell_type": "code",
   "execution_count": 75,
   "metadata": {},
   "outputs": [],
   "source": [
    "isOutlier = df['Global_Sales'] < 1.085"
   ]
  },
  {
   "cell_type": "code",
   "execution_count": 76,
   "metadata": {},
   "outputs": [
    {
     "data": {
      "text/html": [
       "<div>\n",
       "<style scoped>\n",
       "    .dataframe tbody tr th:only-of-type {\n",
       "        vertical-align: middle;\n",
       "    }\n",
       "\n",
       "    .dataframe tbody tr th {\n",
       "        vertical-align: top;\n",
       "    }\n",
       "\n",
       "    .dataframe thead th {\n",
       "        text-align: right;\n",
       "    }\n",
       "</style>\n",
       "<table border=\"1\" class=\"dataframe\">\n",
       "  <thead>\n",
       "    <tr style=\"text-align: right;\">\n",
       "      <th></th>\n",
       "      <th>Rank</th>\n",
       "      <th>Name</th>\n",
       "      <th>Platform</th>\n",
       "      <th>Year</th>\n",
       "      <th>Genre</th>\n",
       "      <th>Publisher</th>\n",
       "      <th>NA_Sales</th>\n",
       "      <th>EU_Sales</th>\n",
       "      <th>JP_Sales</th>\n",
       "      <th>Other_Sales</th>\n",
       "      <th>Global_Sales</th>\n",
       "    </tr>\n",
       "  </thead>\n",
       "  <tbody>\n",
       "    <tr>\n",
       "      <th>1893</th>\n",
       "      <td>1895</td>\n",
       "      <td>NASCAR Thunder 2004</td>\n",
       "      <td>PS2</td>\n",
       "      <td>2003.0</td>\n",
       "      <td>Racing</td>\n",
       "      <td>Electronic Arts</td>\n",
       "      <td>0.53</td>\n",
       "      <td>0.41</td>\n",
       "      <td>0.00</td>\n",
       "      <td>0.14</td>\n",
       "      <td>1.08</td>\n",
       "    </tr>\n",
       "    <tr>\n",
       "      <th>1894</th>\n",
       "      <td>1896</td>\n",
       "      <td>Prince of Persia</td>\n",
       "      <td>PS3</td>\n",
       "      <td>2008.0</td>\n",
       "      <td>Action</td>\n",
       "      <td>Ubisoft</td>\n",
       "      <td>0.47</td>\n",
       "      <td>0.41</td>\n",
       "      <td>0.03</td>\n",
       "      <td>0.18</td>\n",
       "      <td>1.08</td>\n",
       "    </tr>\n",
       "    <tr>\n",
       "      <th>1895</th>\n",
       "      <td>1897</td>\n",
       "      <td>SpongeBob SquarePants: Revenge of the Flying D...</td>\n",
       "      <td>PS2</td>\n",
       "      <td>2002.0</td>\n",
       "      <td>Platform</td>\n",
       "      <td>THQ</td>\n",
       "      <td>0.53</td>\n",
       "      <td>0.41</td>\n",
       "      <td>0.00</td>\n",
       "      <td>0.14</td>\n",
       "      <td>1.08</td>\n",
       "    </tr>\n",
       "    <tr>\n",
       "      <th>1896</th>\n",
       "      <td>1898</td>\n",
       "      <td>Grand Theft Auto V</td>\n",
       "      <td>PC</td>\n",
       "      <td>2015.0</td>\n",
       "      <td>Action</td>\n",
       "      <td>Take-Two Interactive</td>\n",
       "      <td>0.36</td>\n",
       "      <td>0.64</td>\n",
       "      <td>0.00</td>\n",
       "      <td>0.08</td>\n",
       "      <td>1.08</td>\n",
       "    </tr>\n",
       "    <tr>\n",
       "      <th>1897</th>\n",
       "      <td>1899</td>\n",
       "      <td>The Biggest Loser</td>\n",
       "      <td>Wii</td>\n",
       "      <td>2009.0</td>\n",
       "      <td>Sports</td>\n",
       "      <td>THQ</td>\n",
       "      <td>0.87</td>\n",
       "      <td>0.12</td>\n",
       "      <td>0.00</td>\n",
       "      <td>0.09</td>\n",
       "      <td>1.08</td>\n",
       "    </tr>\n",
       "    <tr>\n",
       "      <th>...</th>\n",
       "      <td>...</td>\n",
       "      <td>...</td>\n",
       "      <td>...</td>\n",
       "      <td>...</td>\n",
       "      <td>...</td>\n",
       "      <td>...</td>\n",
       "      <td>...</td>\n",
       "      <td>...</td>\n",
       "      <td>...</td>\n",
       "      <td>...</td>\n",
       "      <td>...</td>\n",
       "    </tr>\n",
       "    <tr>\n",
       "      <th>16593</th>\n",
       "      <td>16596</td>\n",
       "      <td>Woody Woodpecker in Crazy Castle 5</td>\n",
       "      <td>GBA</td>\n",
       "      <td>2002.0</td>\n",
       "      <td>Platform</td>\n",
       "      <td>Kemco</td>\n",
       "      <td>0.01</td>\n",
       "      <td>0.00</td>\n",
       "      <td>0.00</td>\n",
       "      <td>0.00</td>\n",
       "      <td>0.01</td>\n",
       "    </tr>\n",
       "    <tr>\n",
       "      <th>16594</th>\n",
       "      <td>16597</td>\n",
       "      <td>Men in Black II: Alien Escape</td>\n",
       "      <td>GC</td>\n",
       "      <td>2003.0</td>\n",
       "      <td>Shooter</td>\n",
       "      <td>Infogrames</td>\n",
       "      <td>0.01</td>\n",
       "      <td>0.00</td>\n",
       "      <td>0.00</td>\n",
       "      <td>0.00</td>\n",
       "      <td>0.01</td>\n",
       "    </tr>\n",
       "    <tr>\n",
       "      <th>16595</th>\n",
       "      <td>16598</td>\n",
       "      <td>SCORE International Baja 1000: The Official Game</td>\n",
       "      <td>PS2</td>\n",
       "      <td>2008.0</td>\n",
       "      <td>Racing</td>\n",
       "      <td>Activision</td>\n",
       "      <td>0.00</td>\n",
       "      <td>0.00</td>\n",
       "      <td>0.00</td>\n",
       "      <td>0.00</td>\n",
       "      <td>0.01</td>\n",
       "    </tr>\n",
       "    <tr>\n",
       "      <th>16596</th>\n",
       "      <td>16599</td>\n",
       "      <td>Know How 2</td>\n",
       "      <td>DS</td>\n",
       "      <td>2010.0</td>\n",
       "      <td>Puzzle</td>\n",
       "      <td>7G//AMES</td>\n",
       "      <td>0.00</td>\n",
       "      <td>0.01</td>\n",
       "      <td>0.00</td>\n",
       "      <td>0.00</td>\n",
       "      <td>0.01</td>\n",
       "    </tr>\n",
       "    <tr>\n",
       "      <th>16597</th>\n",
       "      <td>16600</td>\n",
       "      <td>Spirits &amp; Spells</td>\n",
       "      <td>GBA</td>\n",
       "      <td>2003.0</td>\n",
       "      <td>Platform</td>\n",
       "      <td>Wanadoo</td>\n",
       "      <td>0.01</td>\n",
       "      <td>0.00</td>\n",
       "      <td>0.00</td>\n",
       "      <td>0.00</td>\n",
       "      <td>0.01</td>\n",
       "    </tr>\n",
       "  </tbody>\n",
       "</table>\n",
       "<p>14705 rows × 11 columns</p>\n",
       "</div>"
      ],
      "text/plain": [
       "        Rank                                               Name Platform  \\\n",
       "1893    1895                                NASCAR Thunder 2004      PS2   \n",
       "1894    1896                                   Prince of Persia      PS3   \n",
       "1895    1897  SpongeBob SquarePants: Revenge of the Flying D...      PS2   \n",
       "1896    1898                                 Grand Theft Auto V       PC   \n",
       "1897    1899                                  The Biggest Loser      Wii   \n",
       "...      ...                                                ...      ...   \n",
       "16593  16596                 Woody Woodpecker in Crazy Castle 5      GBA   \n",
       "16594  16597                      Men in Black II: Alien Escape       GC   \n",
       "16595  16598   SCORE International Baja 1000: The Official Game      PS2   \n",
       "16596  16599                                         Know How 2       DS   \n",
       "16597  16600                                   Spirits & Spells      GBA   \n",
       "\n",
       "         Year     Genre             Publisher  NA_Sales  EU_Sales  JP_Sales  \\\n",
       "1893   2003.0    Racing       Electronic Arts      0.53      0.41      0.00   \n",
       "1894   2008.0    Action               Ubisoft      0.47      0.41      0.03   \n",
       "1895   2002.0  Platform                   THQ      0.53      0.41      0.00   \n",
       "1896   2015.0    Action  Take-Two Interactive      0.36      0.64      0.00   \n",
       "1897   2009.0    Sports                   THQ      0.87      0.12      0.00   \n",
       "...       ...       ...                   ...       ...       ...       ...   \n",
       "16593  2002.0  Platform                 Kemco      0.01      0.00      0.00   \n",
       "16594  2003.0   Shooter            Infogrames      0.01      0.00      0.00   \n",
       "16595  2008.0    Racing            Activision      0.00      0.00      0.00   \n",
       "16596  2010.0    Puzzle              7G//AMES      0.00      0.01      0.00   \n",
       "16597  2003.0  Platform               Wanadoo      0.01      0.00      0.00   \n",
       "\n",
       "       Other_Sales  Global_Sales  \n",
       "1893          0.14          1.08  \n",
       "1894          0.18          1.08  \n",
       "1895          0.14          1.08  \n",
       "1896          0.08          1.08  \n",
       "1897          0.09          1.08  \n",
       "...            ...           ...  \n",
       "16593         0.00          0.01  \n",
       "16594         0.00          0.01  \n",
       "16595         0.00          0.01  \n",
       "16596         0.00          0.01  \n",
       "16597         0.00          0.01  \n",
       "\n",
       "[14705 rows x 11 columns]"
      ]
     },
     "execution_count": 76,
     "metadata": {},
     "output_type": "execute_result"
    }
   ],
   "source": [
    "filtered = df[isOutlier]\n",
    "filtered"
   ]
  },
  {
   "cell_type": "code",
   "execution_count": 83,
   "metadata": {},
   "outputs": [
    {
     "data": {
      "text/plain": [
       "<matplotlib.axes._subplots.AxesSubplot at 0x1ee8647b4f0>"
      ]
     },
     "execution_count": 83,
     "metadata": {},
     "output_type": "execute_result"
    },
    {
     "data": {
      "image/png": "[encoded data removed]",
      "text/plain": [
       "<Figure size 432x288 with 1 Axes>"
      ]
     },
     "metadata": {
      "needs_background": "light"
     },
     "output_type": "display_data"
    }
   ],
   "source": [
    "sns.boxplot(x = filtered['Global_Sales'], showmeans = True)"
   ]
  },
  {
   "cell_type": "code",
   "execution_count": 228,
   "metadata": {},
   "outputs": [
    {
     "data": {
      "text/plain": [
       "<matplotlib.axes._subplots.AxesSubplot at 0x1ee87044610>"
      ]
     },
     "execution_count": 228,
     "metadata": {},
     "output_type": "execute_result"
    },
    {
     "data": {
      "image/png": "[encoded data removed]",
      "text/plain": [
       "<Figure size 432x288 with 1 Axes>"
      ]
     },
     "metadata": {
      "needs_background": "light"
     },
     "output_type": "display_data"
    }
   ],
   "source": [
    "sns.distplot(filtered.Global_Sales, kde=False)"
   ]
  },
  {
   "cell_type": "code",
   "execution_count": 79,
   "metadata": {},
   "outputs": [
    {
     "data": {
      "text/plain": [
       "0.14"
      ]
     },
     "execution_count": 79,
     "metadata": {},
     "output_type": "execute_result"
    }
   ],
   "source": [
    "filtered['Global_Sales'].median()"
   ]
  },
  {
   "cell_type": "code",
   "execution_count": 80,
   "metadata": {},
   "outputs": [
    {
     "data": {
      "text/plain": [
       "0.23147432845973634"
      ]
     },
     "execution_count": 80,
     "metadata": {},
     "output_type": "execute_result"
    }
   ],
   "source": [
    "filtered['Global_Sales'].mean()"
   ]
  },
  {
   "cell_type": "markdown",
   "metadata": {},
   "source": [
    "Now we can see that the mean and median are closer to each other, their difference is just about 0.09. The graph is now zoomed for several times and everything is clear because of the absence of outliers."
   ]
  },
  {
   "cell_type": "markdown",
   "metadata": {},
   "source": [
    "## Question 2 (1 point)"
   ]
  },
  {
   "cell_type": "markdown",
   "metadata": {},
   "source": [
    "Using NumPy's random library:\n",
    "* Write a NumPy program to shuffle numbers between 0 and 10 (inclusive)\n",
    "* Write a NumPy program to generate six random integers between 10 and 30\n",
    "* Write a program to simulate dice rolling\n",
    "* Visualize number of occurences of each side of a die\n",
    "* Find probability of getting even number, using simulation"
   ]
  },
  {
   "cell_type": "markdown",
   "metadata": {},
   "source": [
    "## Solution 2"
   ]
  },
  {
   "cell_type": "code",
   "execution_count": 84,
   "metadata": {},
   "outputs": [],
   "source": [
    "from numpy import random"
   ]
  },
  {
   "cell_type": "code",
   "execution_count": 109,
   "metadata": {},
   "outputs": [
    {
     "data": {
      "text/plain": [
       "array([ 0,  1,  2,  3,  4,  5,  6,  7,  8,  9, 10])"
      ]
     },
     "execution_count": 109,
     "metadata": {},
     "output_type": "execute_result"
    }
   ],
   "source": [
    "arr = np.arange(0, 11)\n",
    "arr"
   ]
  },
  {
   "cell_type": "code",
   "execution_count": 110,
   "metadata": {},
   "outputs": [
    {
     "data": {
      "text/plain": [
       "array([ 8,  2,  3,  0,  1,  6,  9,  5, 10,  4,  7])"
      ]
     },
     "execution_count": 110,
     "metadata": {},
     "output_type": "execute_result"
    }
   ],
   "source": [
    "np.random.shuffle(arr)\n",
    "arr"
   ]
  },
  {
   "cell_type": "code",
   "execution_count": 188,
   "metadata": {},
   "outputs": [
    {
     "name": "stdout",
     "output_type": "stream",
     "text": [
      "[23 15 24 27 18 25 29 20 12 27]\n"
     ]
    }
   ],
   "source": [
    "# Write a NumPy program to generate six random integers between 10 and 30\n",
    "y = random.randint(10, 30, size=10)\n",
    "\n",
    "print(y)"
   ]
  },
  {
   "cell_type": "code",
   "execution_count": 224,
   "metadata": {},
   "outputs": [
    {
     "name": "stdout",
     "output_type": "stream",
     "text": [
      "[2 4 6 1 5 1 1 6 5 4 4 4 2 5 1 2 6 5 5 3 3 3 2 1 5 6 5 4 1 2 3 3 5 2 5 6 2\n",
      " 5 4 4 1 2 2 2 2 6 3 4 2 1 5 6 1 4 1 1 3 2 4 5 3 5 2 3 4 4 4 3 6 1 5 4 4 4\n",
      " 4 2 3 2 5 4 2 3 4 4 1 6 5 6 6 3 1 6 3 5 2 5 2 3 6 1 4 1 4 2 1 3 1 2 4 4 4\n",
      " 5 5 1 2 6 1 3 6 3 3 2 6 3 6 2 1 6 5 5 1 3 5 2 5 1 5 6 1 4 3 1 2 3 3 5 6 5\n",
      " 1 6 1 1 5 1 2 4 3 1 4 3 1 2 3 2 3 6 1 1 6 5 6 1 6 2 3 5 6 6 2 2 3 5 2 6 3\n",
      " 3 1 4 3 5 5 6 2 2 4 3 6 6 6 3 3 2 4 2 6 3 4 3 5 2 4 2 3 6 5 1 3 2 5 6 4 5\n",
      " 5 5 6 1 6 5 3 1 5 2 3 5 2 6 5 3 3 5 4 4 2 2 3 2 6 2 2 5 2 4 4 6 3 6 3 2 6\n",
      " 4 6 4 2 1 5 6 4 5 2 1 2 6 4 4 6 2 4 5 6 5 5 2 5 6 6 6 5 3 1 2 2 5 6 5 2 4\n",
      " 1 2 2 6 4 3 6 5 4 5 1 5 5 1 1 5 5 6 3 6 3 1 5 5 6 1 4 5 3 3 3 3 2 2 4 4 4\n",
      " 3 1 4 1 4 6 1 5 5 4 2 6 3 4 1 6 3 4 4 6 3 3 1 3 4 6 6 5 2 3 1 1 3 4 5 6 3\n",
      " 3 3 2 1 3 3 2 3 4 6 4 2 1 4 6 5 4 4 1 3 1 5 4 3 3 2 2 1 2 4 2 3 4 6 5 5 5\n",
      " 3 4 2 3 3 4 3 1 5 6 2 3 1 2 5 3 1 2 6 6 1 6 2 5 6 1 6 1 4 4 6 4 2 6 6 3 2\n",
      " 1 4 2 5 4 2 5 5 1 1 1 6 1 5 6 1 5 4 2 1 6 3 1 4 5 6 2 3 4 3 2 2 5 5 4 1 4\n",
      " 6 4 5 3 1 4 5 4 3 2 4 3 2 4 4 6 3 3 3 4 3 3 6 4 5 1 1 1 1 1 2 5 6 3 1 5 4\n",
      " 2 1 2 2 1 1 2 4 1 5 5 3 4 3 1 3 6 1 6 1 6 3 4 6 1 4 5 5 3 4 3 6 6 3 4 5 1\n",
      " 4 2 6 4 2 4 4 5 5 3 5 5 2 4 2 2 1 3 3 4 4 5 3 5 3 3 2 1 1 3 6 4 5 1 4 6 5\n",
      " 4 6 3 4 4 3 3 2 3 4 5 4 1 6 2 6 6 5 6 2 1 2 6 5 2 6 4 4 4 4 2 4 5 2 5 4 6\n",
      " 1 2 2 2 6 3 4 6 6 6 4 2 4 2 2 1 3 5 1 3 5 4 2 5 2 4 2 5 5 6 3 6 1 2 1 5 3\n",
      " 6 6 4 2 6 2 3 5 2 3 6 1 4 3 4 5 2 6 5 3 6 5 3 5 2 4 3 3 3 2 4 4 3 5 4 2 3\n",
      " 1 3 4 1 1 3 6 4 4 5 5 5 5 5 5 3 6 6 6 4 1 2 1 2 2 5 5 4 6 1 1 4 3 6 5 4 5\n",
      " 2 4 1 3 2 2 1 3 2 4 4 4 5 2 4 5 4 6 2 2 2 1 1 2 6 6 1 4 3 2 4 3 4 6 6 6 4\n",
      " 6 1 3 4 2 3 1 3 3 6 2 3 6 6 4 1 1 5 1 2 6 2 5 5 6 1 6 3 3 5 6 5 6 4 2 5 6\n",
      " 6 5 4 5 2 2 4 1 2 1 3 6 1 2 5 6 1 4 2 4 1 5 2 3 5 5 3 2 3 1 1 2 1 6 4 3 4\n",
      " 2 3 3 1 2 2 5 1 2 1 3 2 4 4 2 2 4 2 5 2 4 6 3 3 4 4 2 2 1 6 2 3 4 6 3 4 6\n",
      " 5 5 1 5 1 3 2 4 3 5 1 6 3 6 4 5 4 6 6 1 2 2 2 2 5 5 1 6 5 3 6 1 1 1 4 6 5\n",
      " 2 2 2 6 6 3 2 4 5 3 2 3 4 2 5 4 3 6 5 1 2 1 1 6 2 1 6 6 2 5 6 4 5 2 3 1 5\n",
      " 2 5 4 4 1 1 3 3 6 5 4 6 4 4 1 3 4 3 1 4 6 5 3 6 1 4 1 5 6 6 3 3 1 4 2 4 5\n",
      " 1]\n"
     ]
    },
    {
     "data": {
      "text/plain": [
       "<matplotlib.axes._subplots.AxesSubplot at 0x1ee8697e040>"
      ]
     },
     "execution_count": 224,
     "metadata": {},
     "output_type": "execute_result"
    },
    {
     "data": {
      "image/png": "[encoded data removed]",
      "text/plain": [
       "<Figure size 432x288 with 1 Axes>"
      ]
     },
     "metadata": {
      "needs_background": "light"
     },
     "output_type": "display_data"
    }
   ],
   "source": [
    "# Write a program to simulate dice rolling\n",
    "w = random.randint(1, 7, size=1000)\n",
    "\n",
    "print(w)\n",
    "\n",
    "# Visualize number of occurences of each side of a die\n",
    "sns.distplot(w, kde=False, bins=6)"
   ]
  },
  {
   "cell_type": "markdown",
   "metadata": {},
   "source": [
    "Since dice has 6 sides, 3 of them odd and 3 of them even numbers, the probability of getting even number will be 1/2. \n",
    "\n",
    "**In theory, the probability should be 1/2 or 50%, in the next cell, I will check it in practice by using a function.**"
   ]
  },
  {
   "cell_type": "code",
   "execution_count": 225,
   "metadata": {},
   "outputs": [
    {
     "name": "stdout",
     "output_type": "stream",
     "text": [
      "# of even numbers: 515\n",
      "The probability of getting even number: 51.5%\n"
     ]
    }
   ],
   "source": [
    "def probability(x):\n",
    "    counter=0\n",
    "    n=len(x)\n",
    "    for num in x:\n",
    "        if (num%2)==0:\n",
    "            counter+=1\n",
    "    print(\"# of even numbers: \" + str(counter))\n",
    "    p = (counter/n)*100\n",
    "    print(\"The probability of getting even number: \" + str(p) + \"%\")\n",
    "\n",
    "probability(w)"
   ]
  },
  {
   "cell_type": "markdown",
   "metadata": {},
   "source": [
    "We see that our hypothesis is right because the probability that we got in practice is close to our number that we found out in the theory part. "
   ]
  },
  {
   "cell_type": "markdown",
   "metadata": {},
   "source": [
    "## Question 3 (1 point)"
   ]
  },
  {
   "cell_type": "markdown",
   "metadata": {},
   "source": [
    "Generate synthetic data (numpy.random.normal) with mean = 35, std = 15 and size = 1000 (round it to nearest integer). Plot histogram. What is the mean, median and mode? Build function to calculate standard deviation using standard Python functionality. Calculate std. using your function."
   ]
  },
  {
   "cell_type": "markdown",
   "metadata": {},
   "source": [
    "## Solution 3"
   ]
  },
  {
   "cell_type": "code",
   "execution_count": 185,
   "metadata": {},
   "outputs": [
    {
     "name": "stdout",
     "output_type": "stream",
     "text": [
      "[ 41.34631562  34.96842598  29.7184416   34.50875585  59.85839628\n",
      "  43.26407932  63.50755101  46.85970583  28.00662659  22.25316887\n",
      " -10.83593035  24.28265624  41.65974009  54.43181318  15.17370993\n",
      "  41.6801142   34.08685241   0.50587138  33.81585474  33.57845738\n",
      "  36.62543854  26.13783262  12.80625143  32.94177883  18.4226993\n",
      "  60.34565835  35.03011105  29.43766527  60.58630882   8.37149687\n",
      "  30.19898294  29.02461816  42.43916886  14.23451954  37.66052712\n",
      "  39.613417    24.42619602  25.98257241  24.15540936  52.13998979\n",
      "  34.59025044  35.90992621  28.6249575   29.31596601  31.9628328\n",
      "  14.85241004  39.55787977  40.65214402  13.64871397  42.16719223\n",
      "  33.72786545   1.4494704   46.61493883  11.55720098  46.87113889\n",
      "  41.17780358  54.67924053  31.05460942  35.83856126  53.23590081\n",
      "  33.12044636  43.09634153  50.8612657   42.0174435   42.52874893\n",
      "  46.0370023   11.2796773   26.86664478  11.17901173  32.80152817\n",
      "  65.96367971  50.61087381  31.8411791   39.18624186  35.49955734\n",
      "  32.48680171  29.53413208  57.71338945  54.93129261   5.85787382\n",
      "  15.99666914  37.76085853  13.71565242  15.83921443  51.08449645\n",
      "  49.15153055  54.33571112  20.42856863  58.94089829  30.17373145\n",
      "  39.59647644  76.93791806  31.20674999  43.55746456  -0.96462275\n",
      "  57.45699196  46.31773551  52.37506597  56.73859173  46.34446191\n",
      "  24.84585334   0.63628117  65.83081602  13.88390098  31.02039693\n",
      "  40.90676249  -0.54181468  35.92790307  18.90204978  37.75524985\n",
      "  30.12373275  19.44406135  18.87856872  45.42050632  38.73150776\n",
      "  35.1751886   23.9406763   39.73025512  14.60290598  32.59966099\n",
      "  42.19625666  33.50905804  -2.54846944  32.08198429  47.97191653\n",
      "  29.54781897  47.68652466  44.16072954  44.4046484   38.56333376\n",
      "  35.87976114  47.3880874    4.5546571   14.75124471  36.97515714\n",
      "  59.02515989  57.80145871  39.21141229  24.40133388  58.47919587\n",
      "  48.12214833  56.38371063  10.83832642  49.29113412  31.14833166\n",
      "  66.83240609  40.97874201  35.13853856  47.94324872  24.85230458\n",
      "  41.27388046  28.85684579  27.7587034    7.04785767  28.44464086\n",
      "  68.17012683  31.33715213  50.23617586  46.38242418  50.33380998\n",
      "  13.55889682  44.42582698  35.08027852  60.28474198  31.66938009\n",
      "  45.18634481  33.47036179  25.85389347  26.0635543   46.24246155\n",
      "  23.56487069  46.01549444  19.64513567  34.0260675   35.38543199\n",
      "  35.63331457  28.6574988   48.23034865  39.41886049  29.2156878\n",
      "  24.56862911  21.56780902  21.97842593  31.12279921  28.43444869\n",
      "  39.00782488  37.984974    37.59000494  25.18658835  11.64230026\n",
      "  34.65873457  35.71632732  18.7922294   31.14661915  28.66108916\n",
      "  63.53588093  37.82431998  26.96638216  63.0918213   37.88390053\n",
      "  33.41253784  63.02746186  31.38834524  26.97215643  56.64344595\n",
      "  54.13294598  44.47724505  29.04544048  33.26307887  42.62395866\n",
      "  34.02446216  39.70212743  51.47707684  37.3789991   24.70446109\n",
      "  46.77126732  72.80925668  37.37523307  58.48158856  34.59044274\n",
      "  33.60526838  36.83762465  32.98762939  38.26160485   6.77191895\n",
      "  41.52318973  25.42056335  29.72594258  38.45935345  13.35423536\n",
      "  32.8048297   31.928032    18.60706195  35.28060152   3.78847356\n",
      "  28.72872332  49.6179196   49.30445855  27.96504762  33.90761117\n",
      "   3.00826735  56.82617277  51.9720129   44.37170094  35.28483013\n",
      "  67.22125677  31.44252193  25.16623944  32.27396929  34.51258601\n",
      "  53.82247592  39.17915242  12.06338894  53.0072087   51.85537007\n",
      "  30.2257673   35.48154788  52.28432479  50.41967454  13.63158755\n",
      "  24.68751629  46.02485792  40.8854094   29.8787143   52.46571873\n",
      "  33.68231609  25.54985269  35.36232643  28.61135681  39.86585924\n",
      "  37.23230909  44.88548971  30.53956247  35.47075391  38.6981119\n",
      "  17.58110749  19.89831778  40.78835843  49.45717969  55.85670252\n",
      "  54.13293686  38.62418291  36.92168907  24.87790841  59.83607995\n",
      "  53.80902966  30.8466317   32.60609567  27.48675941  30.20506209\n",
      "  39.74930712  33.99025606  36.30967468  39.51735084  29.56701926\n",
      "  19.62850361  41.16813561  51.74249576  50.75728781  17.3292797\n",
      "   8.0828929   62.42980923  43.99356287  29.78280997  24.50866131\n",
      "   1.65565416  38.43499371  25.45445159  52.88304452  45.20846828\n",
      "  41.58467518  22.33185827  44.76658635  39.26780873  36.20313679\n",
      "  25.21314825  36.93448237  51.23321009  84.91419643  44.53284907\n",
      "  40.52858214   4.94533652  12.3910232   30.70497868  54.94804279\n",
      "  17.77075665  48.65964624  43.56273224  30.58773597  11.18787015\n",
      "  54.75739871  46.90787904  49.91215595  31.80287765  40.47969421\n",
      "  40.68225262  47.3990205   47.64481028  57.35354765  48.4998417\n",
      "  43.73917165  42.30907282  23.96512578  23.9911821   63.1154932\n",
      "  36.73689546  43.63426443  21.49005531  50.56153028  35.46120745\n",
      "  20.87663914  43.57562281  44.26278652  45.33879207  35.123332\n",
      "  53.17654049  36.76709493  39.64770897  35.91670618  32.44797934\n",
      "  45.457616    52.41940143  39.44336778  13.72833976  40.20509353\n",
      "  14.96825976  39.93084944  29.61419972  17.69965423  37.33974623\n",
      "  30.04504271  32.83031976  23.36752581  39.41917623  37.2295115\n",
      "  39.81369842  21.18711002  52.03247262  26.45288153  31.50947438\n",
      "  36.18036526  18.35819775  29.82802676  53.9629514    6.49541986\n",
      "  40.08506358   8.45286335  36.15551244  21.57294895  36.01330866\n",
      "  43.05457339  57.46314718  50.84719645  42.98628946   8.37117502\n",
      "  39.5972948   22.32008963  15.91015239  40.23790789  44.60588864\n",
      "  52.34235245  62.2253863   32.54673692  37.6384041   46.2194627\n",
      "  38.98034366  34.18776611  35.95970633  56.10133639  29.26691355\n",
      "  36.73687144  11.99804441  55.99584479  43.90583111  19.48273921\n",
      "  43.24388476  44.17173128  49.31031174  48.8174631   18.66015413\n",
      "  23.67414996  48.00259984  23.63738693  22.14356564  29.23574017\n",
      "  18.83827076  25.60442007  46.07852812  29.20060167  20.89803391\n",
      "   1.53896849  21.42522245  11.91172082  20.70456828  24.7864443\n",
      "  29.23705352  42.02319325  31.69388127  29.037769    18.62374398\n",
      "  35.26529082  39.13987313  26.75205175  41.58924396  27.35568302\n",
      "  48.34427616  58.62991522  45.1677615   19.86907096  54.87390115\n",
      "  44.42910819  44.02350972  63.56122122  37.12380768   4.52177534\n",
      "  13.9319105   30.07211141  46.90257175  41.69156168  28.56954896\n",
      "  47.76407971  44.54718713  39.58596887  40.71845944  10.61767892\n",
      "  54.84229047  18.95606612  33.17043514  47.22095388  27.94694018\n",
      "  30.8397574   30.21178611  48.30860802  48.55158386  31.44368519\n",
      "  41.42073439  28.02157471   6.99991031  30.16882974  35.80369246\n",
      "   3.55175729  36.56151606  37.75212871  62.24109979  60.5051759\n",
      "  21.00834659  41.59587485  42.72132338  60.08773331   4.80051931\n",
      "  60.28532254  57.87167182  36.66131641  28.05313945  69.30284249\n",
      "  53.92087117  51.9251984   42.01916677  48.19842559  46.8801052\n",
      "  34.87165166  43.63280259  40.65961186  45.2356707   44.83086716\n",
      "  51.32993382  39.57687593   8.39419607  47.02931422  32.78430801\n",
      "  54.56514169  14.39606206  47.14864839  28.67070483  24.22384937\n",
      "  50.50263494  50.28816353  32.20332591  21.5393084   31.28836182\n",
      "   6.40622043  44.81513481  27.00450849   3.78786202  48.55419159\n",
      "   3.8495011   23.7853497   21.63354715  45.21938193  42.2213754\n",
      "  39.86591352  45.64437855  16.54300025  53.6110307   32.93253221\n",
      "  28.68530053  23.87256999   3.22020063  16.9571523   33.95554128\n",
      "  25.4447133   24.85152341  26.00316315  53.72661025  33.86679711\n",
      "  32.8616154   17.44791534  33.51006196  38.64430513  11.54417359\n",
      "  26.58775952  37.31474871  32.75230146  44.5467837   28.1522782\n",
      "  46.06532669  62.34224439  47.37356807  55.85543723  27.25995875\n",
      "  41.52320058  34.20672058  36.04329374  39.80964254  18.03174215\n",
      "  56.51684651  39.83696065  39.77812354  17.02490069  18.68744988\n",
      "  28.26598619  20.04241352  17.83097341  45.64769892  37.52802645\n",
      "  42.70289294  65.45638226  56.65596231  30.20393623  28.16331117\n",
      "  44.34904289  46.39564839  37.84218644  39.87617279   7.30646306\n",
      "  44.90565822   9.21875189  51.67355328  11.1373667   30.72624925\n",
      "  31.92649465  31.11162845  55.31969018  44.16266699  23.68561078\n",
      "  59.81592524  37.1890843   57.18469762  50.6179124   42.49268897\n",
      "  50.77714543  36.75231476  28.53974752  33.42815874  45.02207629\n",
      "  42.80417242  46.36705404  42.59538161  52.62609252  62.14109677\n",
      "  50.62946736  58.22444458  20.54702977  49.78913563  43.1899283\n",
      "  44.51294764  57.21570086  20.42386765  25.25915977  29.38140505\n",
      "  34.15658169  32.50926102  41.81608636  43.22183154  55.61113782\n",
      "  23.24528826  31.68797829  44.72889     43.25760919  32.97559902\n",
      "  23.79413304   5.70618905  26.44447878  52.84985216  25.96789952\n",
      "  32.35942833  52.05496343  35.99909723  32.85439999  23.84885987\n",
      "  28.84076646  21.9196775   40.91678427  34.9219598   40.34524753\n",
      "  26.62713224  22.94186914   5.62758641  37.14654829  46.92465256\n",
      "  34.30118299  60.22828711  51.35806856  28.57217837  41.692793\n",
      "  55.2070296   43.94449967  28.63067273  43.35416004  52.87147028\n",
      "  35.27019354  43.0921154   42.10929997  14.86133426  24.64426474\n",
      "  31.719874     6.52939609  29.23014896  -2.03038002  15.66400808\n",
      "  39.96080619  27.02818712  15.97208771  33.17103421  39.0808195\n",
      "  41.07868012  33.24302027  16.4919638   10.67618286  40.30000965\n",
      "  38.88396253  16.20408628  54.02889504  34.80731049  35.93568059\n",
      "  69.92673239  15.84003357  52.02572317  17.36493871  33.87287218\n",
      "  20.85565382  14.23563954  52.13001903  33.87521894  10.63898364\n",
      "  54.96788598  25.29882749  27.42404234  24.39438124  24.76767641\n",
      "  59.37997119  19.93759426  25.54578444  20.41328273  33.78224951\n",
      "  15.19638195  45.67804522  45.82140002  43.79301975  29.99096379\n",
      "  46.55103298  47.00631438  58.86636649  48.2103324   23.94022932\n",
      "  33.0135518   50.62187244  14.71548386  32.37951831  33.11681841\n",
      "  24.29626239   9.39079753  28.19096207  21.53228673  27.7186778\n",
      "  67.392617    40.80724536  53.91866395  47.35813084  16.10694887\n",
      "  30.33424998  45.17432178  31.55461174  45.65424079  39.17562077\n",
      "  40.11422095  30.38513295  32.2666004   27.65137565  31.49206662\n",
      "  35.82033029  29.17303195  42.19438963  -3.95545345  25.94514193\n",
      "  59.25630421  54.90279046  51.33041509  24.05238583  39.68865016\n",
      "  63.70179929  56.95894712  27.0765494   29.33278607  37.83650801\n",
      "  32.42831365  71.99471222  18.78725946  32.64537816  27.63751988\n",
      "  30.90247314  48.7422807   30.27613451  10.99974533  41.56807273\n",
      "  26.17008435  16.85442382  34.25713206  22.97329593  51.93248279\n",
      "  54.27501848  54.09128838  37.34445943  20.08100341  13.71019353\n",
      "  32.75632049  37.61149238  30.17477414  26.93557774  25.1090053\n",
      "  38.57264648  33.59299687   4.07227561  34.28261138  63.58438574\n",
      "  34.10757452   8.13016521   7.52851331  45.03348682  57.07592628\n",
      "  27.86064391  31.30540378  43.44477087  34.21627491  37.44893428\n",
      "  43.89929488  26.20022721  14.99423796  15.60902221  24.55724235\n",
      "  -6.6338349   33.90865671  28.87716128  47.07930518  40.16890077\n",
      "  19.1489119   73.7628127   36.07579113  33.70331016  57.00508983\n",
      "  40.9043641   28.20042848  36.00478054  38.16623316  47.24173212\n",
      "  24.76021407  15.11620285  44.06428081  47.27061048  27.02605128\n",
      "  37.45526859  48.43892805  10.99045805  24.68717741  24.13806672\n",
      "  40.79582767  47.71092708  12.96699254  51.13091011  58.45197497\n",
      "  30.91276962  36.63738771  35.48875761  40.14679898  25.52988635\n",
      "  61.01823255  29.44322428   5.53705542   0.38767338  33.2345668\n",
      "  35.62811454  45.21738404  26.50115792  36.62237894  52.9734651\n",
      "  56.81903797  52.40620983  22.40899701  13.87133634  32.76477273\n",
      "  21.94273587  50.26671545  21.16541962  29.05564624  38.63414102\n",
      "  29.80509829  54.34014484  48.18972504  54.34493465  34.1837798\n",
      "  51.26608974  29.64179119  49.75916587  15.56277617  68.19221635\n",
      "  45.80097051  36.18298568  17.34146081  26.77273275  45.24227691\n",
      "  23.98620545  56.83329008  27.45564931  23.22057001  21.64060415\n",
      "  39.7448833   39.01624482  12.54150241  20.01491317  52.07360482\n",
      "  62.90797089  52.06038427  18.25482098  51.19339225  42.41227574\n",
      "  29.45855087  26.6037883   24.75337485  32.92285625  32.21398375\n",
      "  23.6991594   21.11274499  20.80602212  21.63958881   3.18806176\n",
      "  44.38444256   9.77334929  38.11221836  28.0244681   35.36570125\n",
      "  32.53765323  36.97937798  39.40339191  48.83167819  18.95047619\n",
      "  29.93053938  42.99209207  56.58650848  21.31342654  42.615021\n",
      "  38.2056899   33.12243141  30.70254089   1.73602254  18.67844701\n",
      "  37.60033234  29.45840368  37.9095643   54.08501562  48.50520321\n",
      "  10.76481113   4.77353744  28.11687041  26.98888262  29.0035833\n",
      "  -5.21283842  11.78380528  44.88734142  55.03977284  20.61403571\n",
      "  34.31248767  25.6342396   25.25811183  40.94203126  37.81988157\n",
      "  55.33323985  45.28197936  30.7973992   26.60956039  25.41084096\n",
      "  11.99580496   9.30820833  48.59878613  13.42672776  25.14515693\n",
      "  21.81085898  40.39609202  50.63310319  22.88264193  53.6340272\n",
      "  53.50456931  39.90995335  52.28164842  36.8957713   42.38597732\n",
      "   4.77206048  54.58992881  17.68026032  35.41170064  38.8177532\n",
      "   6.06955118  26.70555694  27.52143304  25.74039294  38.13571413\n",
      "  25.67235257  39.25114169   9.55240557  46.09169904  34.43588245\n",
      "  46.83772229  23.35954721  34.61225416  61.28471841  29.80283638\n",
      "  22.18149165  46.00919616  61.12357405  36.920394    58.88875046\n",
      "  37.4262083   11.76729545  34.77392449  11.34773024  32.2459617\n",
      "   5.66724459  53.1565253   32.36266947  28.61149358  20.44415097\n",
      "  22.93612312  43.16859624  18.4279958  -15.91360561  54.27684365\n",
      "  34.2013252   57.21547968  15.22473105  34.77591065  44.15248001]\n"
     ]
    }
   ],
   "source": [
    "z = random.normal(loc=35, scale=15, size=1000)\n",
    "print(z)"
   ]
  },
  {
   "cell_type": "code",
   "execution_count": 186,
   "metadata": {},
   "outputs": [
    {
     "data": {
      "text/plain": [
       "<matplotlib.axes._subplots.AxesSubplot at 0x1ee867e5430>"
      ]
     },
     "execution_count": 186,
     "metadata": {},
     "output_type": "execute_result"
    },
    {
     "data": {
      "image/png": "[encoded data removed]",
      "text/plain": [
       "<Figure size 432x288 with 1 Axes>"
      ]
     },
     "metadata": {
      "needs_background": "light"
     },
     "output_type": "display_data"
    }
   ],
   "source": [
    "sns.distplot(z)"
   ]
  },
  {
   "cell_type": "code",
   "execution_count": 176,
   "metadata": {},
   "outputs": [],
   "source": [
    "import math"
   ]
  },
  {
   "cell_type": "code",
   "execution_count": 235,
   "metadata": {},
   "outputs": [
    {
     "name": "stdout",
     "output_type": "stream",
     "text": [
      "Mean: 35.00530805121291\n",
      "St. deviation: 14.816123106903937\n"
     ]
    }
   ],
   "source": [
    "# Build function to calculate \n",
    "#standard deviation using standard Python functionality. Calculate std. using your function.\n",
    "def findstd(x):\n",
    "    sum=0\n",
    "    n=len(x)\n",
    "    for num in x:\n",
    "        sum+=num\n",
    "    mean=sum/n\n",
    "    \n",
    "    mainsum=0\n",
    "    for num in x:\n",
    "        mainsum+=pow((num-mean), 2)\n",
    "    answer=math.sqrt(mainsum/n-1)\n",
    "    print(\"Mean: \" + str(mean))\n",
    "    print(\"St. deviation: \" + str(answer))\n",
    "findstd(z)"
   ]
  },
  {
   "cell_type": "markdown",
   "metadata": {},
   "source": [
    "## Question 4 (1 point)"
   ]
  },
  {
   "cell_type": "markdown",
   "metadata": {},
   "source": [
    "From previous problem parameters (mean=35, std=15), find:\n",
    "* probability of getting item less than 20\n",
    "* probability of getting item greater than third quartile\n",
    "* probabilty of getting item within first and third quartiles\n",
    "* probabilty of getting item less than 10th percentile __or__ greater than 95th percentile"
   ]
  },
  {
   "cell_type": "markdown",
   "metadata": {},
   "source": [
    "## Solution 4"
   ]
  },
  {
   "cell_type": "code",
   "execution_count": 238,
   "metadata": {},
   "outputs": [
    {
     "data": {
      "image/jpeg": "[encoded data removed]",
      "text/plain": [
       "<IPython.core.display.Image object>"
      ]
     },
     "execution_count": 238,
     "metadata": {},
     "output_type": "execute_result"
    }
   ],
   "source": [
    "from IPython.display import Image\n",
    "Image(filename='question_4.jpg')"
   ]
  },
  {
   "cell_type": "markdown",
   "metadata": {},
   "source": [
    "## Question 5 (1 point)"
   ]
  },
  {
   "cell_type": "markdown",
   "metadata": {},
   "source": [
    "Try to simulate all problems from previous question 4, and find probabilities using loops?"
   ]
  },
  {
   "cell_type": "markdown",
   "metadata": {},
   "source": [
    "## Solution 5"
   ]
  },
  {
   "cell_type": "code",
   "execution_count": 244,
   "metadata": {},
   "outputs": [
    {
     "name": "stdout",
     "output_type": "stream",
     "text": [
      "A probability of getting item less than 20: 15.4%\n"
     ]
    }
   ],
   "source": [
    "def first(x):\n",
    "    counter=0\n",
    "    n=len(x)\n",
    "    for num in x:\n",
    "        if num<20:\n",
    "            counter+=1\n",
    "    answer=(counter/n)*100\n",
    "    print(\"A probability of getting item less than 20: \" + str(answer) + \"%\")\n",
    "    \n",
    "first(z)"
   ]
  },
  {
   "cell_type": "code",
   "execution_count": 250,
   "metadata": {},
   "outputs": [
    {
     "name": "stdout",
     "output_type": "stream",
     "text": [
      "A probability of getting item greater than third quartile: 25.0%\n"
     ]
    }
   ],
   "source": [
    "def second(x):\n",
    "    counter=0\n",
    "    n=len(x)\n",
    "    q3=np.quantile(x, 0.75)\n",
    "    for num in x:\n",
    "        if num>q3:\n",
    "            counter+=1\n",
    "    answer=(counter/n)*100\n",
    "    print (\"A probability of getting item greater than third quartile: \" + str(answer) + \"%\")\n",
    "    \n",
    "second(z)"
   ]
  },
  {
   "cell_type": "code",
   "execution_count": 253,
   "metadata": {},
   "outputs": [
    {
     "name": "stdout",
     "output_type": "stream",
     "text": [
      "A probabilty of getting item within first and third quartiles: 50.0%\n"
     ]
    }
   ],
   "source": [
    "def third(x):\n",
    "    counter=0\n",
    "    n=len(x)\n",
    "    q1=np.quantile(x, 0.25)\n",
    "    q3=np.quantile(x, 0.75)\n",
    "    for num in x:\n",
    "        if q1<num<q3:\n",
    "            counter+=1\n",
    "    answer=(counter/n)*100\n",
    "    print (\"A probabilty of getting item within first and third quartiles: \" + str(answer) + \"%\")\n",
    "    \n",
    "third(z)"
   ]
  },
  {
   "cell_type": "code",
   "execution_count": 256,
   "metadata": {},
   "outputs": [
    {
     "name": "stdout",
     "output_type": "stream",
     "text": [
      "A probabilty of getting item less than 10th percentile or greater than 95th percentile: 15.0%\n"
     ]
    }
   ],
   "source": [
    "def fourth(x):\n",
    "    counter=0;\n",
    "    n=len(x)\n",
    "    p10=np.percentile(x, 10)\n",
    "    p95=np.percentile(x, 95)\n",
    "    for num in x:\n",
    "        if num>p95 or num<p10:\n",
    "            counter+=1\n",
    "    answer=(counter/n)*100\n",
    "    print(\"A probabilty of getting item less than 10th percentile or greater than 95th percentile: \" + str(answer) + \"%\")\n",
    "    \n",
    "fourth(z)"
   ]
  },
  {
   "cell_type": "markdown",
   "metadata": {},
   "source": [
    "## Question 6 (1 point)"
   ]
  },
  {
   "cell_type": "markdown",
   "metadata": {},
   "source": [
    "Proof the following expression:\n",
    "$$Var(x) = E((X-\\mu)^2) = E(X^2) - (E(X))^2$$"
   ]
  },
  {
   "cell_type": "code",
   "execution_count": 257,
   "metadata": {},
   "outputs": [
    {
     "data": {
      "image/jpeg": "[encoded data removed]",
      "text/plain": [
       "<IPython.core.display.Image object>"
      ]
     },
     "execution_count": 257,
     "metadata": {},
     "output_type": "execute_result"
    }
   ],
   "source": [
    "Image(filename='question_6.jpg')"
   ]
  },
  {
   "cell_type": "code",
   "execution_count": null,
   "metadata": {},
   "outputs": [],
   "source": []
  }
 ],
 "metadata": {
  "kernelspec": {
   "display_name": "Python 3",
   "language": "python",
   "name": "python3"
  },
  "language_info": {
   "codemirror_mode": {
    "name": "ipython",
    "version": 3
   },
   "file_extension": ".py",
   "mimetype": "text/x-python",
   "name": "python",
   "nbconvert_exporter": "python",
   "pygments_lexer": "ipython3",
   "version": "3.8.3"
  }
 },
 "nbformat": 4,
 "nbformat_minor": 4
}
